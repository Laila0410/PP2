{
 "cells": [
  {
   "cell_type": "markdown",
   "metadata": {},
   "source": [
    "PATTERN STRING"
   ]
  },
  {
   "cell_type": "code",
   "execution_count": 10,
   "metadata": {},
   "outputs": [
    {
     "name": "stdout",
     "output_type": "stream",
     "text": [
      "['the leila', ' is beatiful how', ' usual ']\n"
     ]
    }
   ],
   "source": [
    "import re\n",
    "text = \"the leila, is beatiful how, usual \"\n",
    "pattern =  \",\"\n",
    "split_text = re.split(pattern , text)\n",
    "print(split_text) "
   ]
  },
  {
   "cell_type": "code",
   "execution_count": 15,
   "metadata": {},
   "outputs": [
    {
     "name": "stdout",
     "output_type": "stream",
     "text": [
      "1\n"
     ]
    }
   ],
   "source": [
    "from math import factorial\n",
    "print(factorial(1))"
   ]
  },
  {
   "cell_type": "code",
   "execution_count": null,
   "metadata": {},
   "outputs": [],
   "source": []
  },
  {
   "cell_type": "code",
   "execution_count": null,
   "metadata": {},
   "outputs": [],
   "source": [
    "text = \"abc\"\n",
    "pattern = \"a.c\"\n",
    "match = re.match(pattern, text)\n",
    "print(match.group{} if match)"
   ]
  }
 ],
 "metadata": {
  "kernelspec": {
   "display_name": "Python 3",
   "language": "python",
   "name": "python3"
  },
  "language_info": {
   "codemirror_mode": {
    "name": "ipython",
    "version": 3
   },
   "file_extension": ".py",
   "mimetype": "text/x-python",
   "name": "python",
   "nbconvert_exporter": "python",
   "pygments_lexer": "ipython3",
   "version": "3.11.9"
  }
 },
 "nbformat": 4,
 "nbformat_minor": 2
}
