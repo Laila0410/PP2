{
 "cells": [
  {
   "cell_type": "markdown",
   "metadata": {},
   "source": [
    "## 1\n"
   ]
  },
  {
   "cell_type": "code",
   "execution_count": 31,
   "metadata": {},
   "outputs": [
    {
     "ename": "UnicodeDecodeError",
     "evalue": "'charmap' codec can't decode byte 0x98 in position 9: character maps to <undefined>",
     "output_type": "error",
     "traceback": [
      "\u001b[1;31m---------------------------------------------------------------------------\u001b[0m",
      "\u001b[1;31mUnicodeDecodeError\u001b[0m                        Traceback (most recent call last)",
      "Cell \u001b[1;32mIn[31], line 3\u001b[0m\n\u001b[0;32m      1\u001b[0m \u001b[38;5;28;01mimport\u001b[39;00m\u001b[38;5;250m \u001b[39m\u001b[38;5;21;01mre\u001b[39;00m\n\u001b[0;32m      2\u001b[0m file \u001b[38;5;241m=\u001b[39m \u001b[38;5;28mopen\u001b[39m(\u001b[38;5;124m'\u001b[39m\u001b[38;5;124mrow.txt\u001b[39m\u001b[38;5;124m'\u001b[39m)\n\u001b[1;32m----> 3\u001b[0m a\u001b[38;5;241m=\u001b[39m\u001b[43mfile\u001b[49m\u001b[38;5;241;43m.\u001b[39;49m\u001b[43mread\u001b[49m\u001b[43m(\u001b[49m\u001b[43m)\u001b[49m\n\u001b[0;32m      4\u001b[0m pattern\u001b[38;5;241m=\u001b[39m\u001b[38;5;124mr\u001b[39m\u001b[38;5;124m\"\u001b[39m\u001b[38;5;124mab*\u001b[39m\u001b[38;5;124m\"\u001b[39m\n\u001b[0;32m      5\u001b[0m c\u001b[38;5;241m=\u001b[39mre\u001b[38;5;241m.\u001b[39mfindall(pattern,a)\n",
      "File \u001b[1;32mC:\\Program Files\\WindowsApps\\PythonSoftwareFoundation.Python.3.11_3.11.2544.0_x64__qbz5n2kfra8p0\\Lib\\encodings\\cp1251.py:23\u001b[0m, in \u001b[0;36mIncrementalDecoder.decode\u001b[1;34m(self, input, final)\u001b[0m\n\u001b[0;32m     22\u001b[0m \u001b[38;5;28;01mdef\u001b[39;00m\u001b[38;5;250m \u001b[39m\u001b[38;5;21mdecode\u001b[39m(\u001b[38;5;28mself\u001b[39m, \u001b[38;5;28minput\u001b[39m, final\u001b[38;5;241m=\u001b[39m\u001b[38;5;28;01mFalse\u001b[39;00m):\n\u001b[1;32m---> 23\u001b[0m     \u001b[38;5;28;01mreturn\u001b[39;00m \u001b[43mcodecs\u001b[49m\u001b[38;5;241;43m.\u001b[39;49m\u001b[43mcharmap_decode\u001b[49m\u001b[43m(\u001b[49m\u001b[38;5;28;43minput\u001b[39;49m\u001b[43m,\u001b[49m\u001b[38;5;28;43mself\u001b[39;49m\u001b[38;5;241;43m.\u001b[39;49m\u001b[43merrors\u001b[49m\u001b[43m,\u001b[49m\u001b[43mdecoding_table\u001b[49m\u001b[43m)\u001b[49m[\u001b[38;5;241m0\u001b[39m]\n",
      "\u001b[1;31mUnicodeDecodeError\u001b[0m: 'charmap' codec can't decode byte 0x98 in position 9: character maps to <undefined>"
     ]
    }
   ],
   "source": [
    "import re\n",
    "file = open('row.txt')\n",
    "a=file.read()\n",
    "pattern=r\"ab*\"\n",
    "c=re.findall(pattern,a)\n",
    "if c:\n",
    "    print(c)\n",
    "else:\n",
    "    print('None')\n",
    "\n",
    "\n"
   ]
  },
  {
   "cell_type": "markdown",
   "metadata": {},
   "source": [
    "## 2"
   ]
  },
  {
   "cell_type": "code",
   "execution_count": null,
   "metadata": {},
   "outputs": [
    {
     "name": "stdout",
     "output_type": "stream",
     "text": [
      "None\n"
     ]
    }
   ],
   "source": [
    "import re\n",
    "a=file.read()\n",
    "pattern=r\"ab{2,3}\"\n",
    "c=re.findall(pattern,a)\n",
    "if c:\n",
    "    print(c)\n",
    "else:\n",
    "    print('None')\n",
    "\n",
    "\n"
   ]
  },
  {
   "cell_type": "markdown",
   "metadata": {},
   "source": [
    "## 3"
   ]
  },
  {
   "cell_type": "code",
   "execution_count": null,
   "metadata": {},
   "outputs": [
    {
     "name": "stdout",
     "output_type": "stream",
     "text": [
      "None\n"
     ]
    }
   ],
   "source": [
    "import re\n",
    "a=file.read()\n",
    "pettern=r\"^[a-z]+_[a-z]+$\"\n",
    "c=re.findall(pattern,a)\n",
    "if c:\n",
    "    print(c)\n",
    "else:\n",
    "    print('None')\n",
    "\n",
    "\n"
   ]
  },
  {
   "cell_type": "markdown",
   "metadata": {},
   "source": [
    "## 4"
   ]
  },
  {
   "cell_type": "code",
   "execution_count": null,
   "metadata": {},
   "outputs": [
    {
     "name": "stdout",
     "output_type": "stream",
     "text": [
      "None\n"
     ]
    }
   ],
   "source": [
    "import re\n",
    "a=file.read()\n",
    "pettern=r\"^[A-Z][a-z]+$\"\n",
    "c=re.findall(pattern,a)\n",
    "if c:\n",
    "    print(c)\n",
    "else:\n",
    "    print('None')\n",
    "\n"
   ]
  },
  {
   "cell_type": "markdown",
   "metadata": {},
   "source": [
    "## 5"
   ]
  },
  {
   "cell_type": "code",
   "execution_count": null,
   "metadata": {},
   "outputs": [
    {
     "name": "stdout",
     "output_type": "stream",
     "text": [
      "None\n"
     ]
    }
   ],
   "source": [
    "import re\n",
    "a=file.read()\n",
    "pattern=r\"a.b$\"\n",
    "c=re.findall(pattern,a)\n",
    "if c:\n",
    "    print(с)\n",
    "else:\n",
    "    print('None')"
   ]
  },
  {
   "cell_type": "markdown",
   "metadata": {},
   "source": [
    "## 6"
   ]
  },
  {
   "cell_type": "code",
   "execution_count": null,
   "metadata": {},
   "outputs": [
    {
     "name": "stdout",
     "output_type": "stream",
     "text": [
      "ДУБЛИКАТ\n",
      "Филиал:ТОО:EUROPHARMA:Астана\n",
      "БИН:080841000761\n",
      "НДС:Серия:58001\n",
      ":№:0014377\n",
      "Касса:300-189\n",
      "Смена:10\n",
      "Порядковый:номер:чека:№64\n",
      "Чек:№2331180266\n",
      "Кассир:Аптека:17-1\n",
      "ПРОДАЖА\n",
      "1:\n",
      "Натрия:хлорид:0:9%::200:мл::фл\n",
      "2:000:x:154:00\n",
      "308:00\n",
      "Стоимость\n",
      "308:00\n",
      "2:\n",
      "Борный:спирт:3%::20:мл::фл:\n",
      "1:000:x:51:00\n",
      "51:00\n",
      "Стоимость\n",
      "51:00\n",
      "3:\n",
      "Шприц:2:мл::3-х:комп::(Bioject)\n",
      "2:000:x:16:00\n",
      "32:00\n",
      "Стоимость\n",
      "32:00\n",
      "4:\n",
      "Система:для:инфузии:Vogt:Medical\n",
      "2:000:x:60:00\n",
      "120:00\n",
      "Стоимость\n",
      "120:00\n",
      "5:\n",
      "Naturella:прокладки:Классик:макси:№8\n",
      "1:000:x:310:00\n",
      "310:00\n",
      "Стоимость\n",
      "310:00\n",
      "6:\n",
      "AURA:Ватные:диски:№150\n",
      "1:000:x:461:00\n",
      "461:00\n",
      "Стоимость\n",
      "461:00\n",
      "7:\n",
      "Чистая:линия:скраб:мягкий:50:мл\n",
      "1:000:x:381:00\n",
      "381:00\n",
      "Стоимость\n",
      "381:00\n",
      "8:\n",
      "Чистая:линия::скраб:очищающийабрикос:50:мл\n",
      "1:000:x:386:00\n",
      "386:00\n",
      "Стоимость\n",
      "386:00\n",
      "9:\n",
      "Чистая:линия:скраб:мягкий:50:мл\n",
      "1:000:x:381:00\n",
      "381:00\n",
      "Стоимость\n",
      "381:00\n",
      "10:\n",
      "Carefree:салфетки:Алоэвоздухопроницаемые:№20\n",
      "1:000:x:414:00\n",
      "414:00\n",
      "Стоимость\n",
      "414:00\n",
      "11:\n",
      "Pro:Series:Шампунь:яркий:цвет:500мл\n",
      "1:000:x:841:00\n",
      "841:00\n",
      "Стоимость\n",
      "841:00\n",
      "12:\n",
      "Pro:Series:бальзам-ополаскивательдля:длител:ухода:за:окрашеннымиволосами:Яркий:цвет:500мл\n",
      "1:000:x:841:00\n",
      "841:00\n",
      "Стоимость\n",
      "841:00\n",
      "13:\n",
      "Clear:шампунь:Актив:спорт:2в1мужской::400:мл\n",
      "1:000:x:1:200:00\n",
      "1:200:00\n",
      "Стоимость\n",
      "1:200:00\n",
      "14:\n",
      "Bio:World:(HYDRO:THERAPY)Мицеллярная:вода:5в1::445мл\n",
      "1:000:x:1:152:00\n",
      "1:152:00\n",
      "Стоимость\n",
      "1:152:00\n",
      "15:\n",
      "Bio:World:(HYDRO:THERAPY):Гель-муссдля:умывания:с:гиалуроновойкислотой::250мл\n",
      "1:000:x:1:152:00\n",
      "1:152:00\n",
      "Стоимость\n",
      "1:152:00\n",
      "16:\n",
      "[RX]-Натрия:хлорид:0:9%::100:мл::фл:\n",
      "1:000:x:168:00\n",
      "168:00\n",
      "Стоимость\n",
      "168:00\n",
      "17:\n",
      "[RX]-Дисоль:р-р:400:мл::фл:\n",
      "1:000:x:163:00\n",
      "163:00\n",
      "Стоимость\n",
      "163:00\n",
      "18:\n",
      "Тагансорбент:с:иономи:серебра:№30:пор:\n",
      "1:000:x:1:526:00\n",
      "1:526:00\n",
      "Стоимость\n",
      "1:526:00\n",
      "19:\n",
      "[RX]-Церукал:2%::2:мл::№10::амп:\n",
      "2:000:x:396:00\n",
      "792:00\n",
      "Стоимость\n",
      "792:00\n",
      "20:\n",
      "[RX]-Андазол:200:мг::№40::табл:\n",
      "1:000:x:7:330:00\n",
      "7:330:00\n",
      "Стоимость\n",
      "7:330:00\n",
      "Банковская:карта:\n",
      "18:009:00\n",
      "ИТОГО:\n",
      "18:009:00\n",
      "в:т:ч::НДС:12%:\n",
      "0:00\n",
      "Фискальный:признак:\n",
      "2331180266\n",
      "Время::18:04:2019:11:13:58\n",
      "г::Нур-султан:Казахстан::Мангилик:Ел:19::нп-5\n",
      "Оператор:фискальных:данных::АО\"Казахтелеком\"Для:проверки:чека:зайдите:на:сайт:consumer:oofd:kz\n",
      "ФИСКАЛЬНЫЙ:ЧЕК\n",
      "ФП\n",
      "ИНК:ОФД::311559\n",
      "Код:ККМ:КГД:(РНМ)::620300145316\n",
      "ЗНМ::SWK00034961\n",
      "WEBKASSA:KZ\n",
      "\n"
     ]
    }
   ],
   "source": [
    "import re\n",
    "a=file.read()\n",
    "pattern=r\"[, .]\"\n",
    "c=re.sub(pattern,\":\",a)\n",
    "print(c)\n"
   ]
  },
  {
   "cell_type": "markdown",
   "metadata": {},
   "source": [
    "## 7"
   ]
  },
  {
   "cell_type": "code",
   "execution_count": null,
   "metadata": {},
   "outputs": [
    {
     "name": "stdout",
     "output_type": "stream",
     "text": [
      "\n"
     ]
    }
   ],
   "source": [
    "import re\n",
    "snake = file.read()\n",
    "pattern = re.compile(r'(_\\w)')\n",
    "camel = re.sub(pattern, lambda x: x.group(1)[1:].upper(), snake)\n",
    "print(camel)"
   ]
  },
  {
   "cell_type": "markdown",
   "metadata": {},
   "source": [
    "## 8"
   ]
  },
  {
   "cell_type": "code",
   "execution_count": null,
   "metadata": {},
   "outputs": [
    {
     "name": "stdout",
     "output_type": "stream",
     "text": [
      "\n"
     ]
    }
   ],
   "source": [
    "import re\n",
    "a=file.read()\n",
    "pattern = '[A-Z][^A-Z]*'\n",
    "split_strings = re.findall(pattern, a)\n",
    "print(' '.join(split_strings))"
   ]
  },
  {
   "cell_type": "markdown",
   "metadata": {},
   "source": [
    "## 9"
   ]
  },
  {
   "cell_type": "code",
   "execution_count": null,
   "metadata": {},
   "outputs": [
    {
     "name": "stdout",
     "output_type": "stream",
     "text": [
      "\n"
     ]
    }
   ],
   "source": [
    "import re\n",
    "a=file.read()\n",
    "pattern = re.compile(r'(?<=[a-z])([A-Z])')\n",
    "space = re.sub(pattern, r' \\1', a)\n",
    "print(space)"
   ]
  },
  {
   "cell_type": "markdown",
   "metadata": {},
   "source": [
    "## 10"
   ]
  },
  {
   "cell_type": "code",
   "execution_count": null,
   "metadata": {},
   "outputs": [],
   "source": [
    "import re\n",
    "camel = file.read()\n",
    "pattern = re.compile(r'(?<!^)(?=[A-Z])')\n",
    "snake= re.sub(pattern, '_', camel).lower()\n",
    "print(snake)"
   ]
  }
 ],
 "metadata": {
  "kernelspec": {
   "display_name": "base",
   "language": "python",
   "name": "python3"
  },
  "language_info": {
   "codemirror_mode": {
    "name": "ipython",
    "version": 3
   },
   "file_extension": ".py",
   "mimetype": "text/x-python",
   "name": "python",
   "nbconvert_exporter": "python",
   "pygments_lexer": "ipython3",
   "version": "3.12.7"
  }
 },
 "nbformat": 4,
 "nbformat_minor": 2
}
